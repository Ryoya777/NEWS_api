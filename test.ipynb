{
 "cells": [
  {
   "cell_type": "code",
   "execution_count": 1,
   "metadata": {},
   "outputs": [],
   "source": [
    "import requests\n",
    "import pandas as pd\n",
    "import json\n",
    "import os\n",
    "import sys"
   ]
  },
  {
   "cell_type": "code",
   "execution_count": 4,
   "metadata": {},
   "outputs": [],
   "source": [
    "API_key = os.getenv('NEWSAPI_API_KEY')\n",
    "\n",
    "# API_key = \"API_KEY\""
   ]
  },
  {
   "cell_type": "code",
   "execution_count": 15,
   "metadata": {},
   "outputs": [],
   "source": [
    "headers = {'X-Api-Key': API_key}\n",
    "\n",
    "url = 'https://newsapi.org/v2/everything'\n",
    "params = {\n",
    "    'q': 'コロナウイルス AND ワクチン',\n",
    "    'sortBy': 'publishedAt',\n",
    "    'pageSize': 100\n",
    "}"
   ]
  },
  {
   "cell_type": "code",
   "execution_count": 16,
   "metadata": {},
   "outputs": [
    {
     "name": "stdout",
     "output_type": "stream",
     "text": [
      "<Response [200]>\n"
     ]
    }
   ],
   "source": [
    "response = requests.get(url, headers=headers, params=params)\n",
    "print(response)"
   ]
  },
  {
   "cell_type": "code",
   "execution_count": 17,
   "metadata": {},
   "outputs": [
    {
     "name": "stdout",
     "output_type": "stream",
     "text": [
      "{'status': 'ok', 'totalResults': 14, 'articles': [{'source': {'id': None, 'name': 'Tocana.jp'}, 'author': '仲田しんじ', 'title': '217回新型コロナウイルスのワクチンを接種した男性の現在', 'description': '新型コロナウイルスワクチンの追加接種は何度行えるのだろうか。コロナ禍の期間中、ドイツではなんとワクチンを217回接種した男性の存在が明らかになっている。\\n■29カ月内にワクチンを217回接種\\n\\u3000今や気分的にはすっかり過去のものとなったコロナ禍だが、渦中にはワクチンを複数回受けたと...', 'url': 'https://tocana.jp/2024/03/post_262317_entry.html', 'urlToImage': 'https://tocana.jp/wp-content/uploads/2024/03/hypervaccination3.jpg', 'publishedAt': '2024-03-12T03:00:59Z', 'content': '217\\r\\n29217\\r\\n76229217\\r\\nPixabay\\r\\nT31\\r\\n20243The Lancet Infectious Diseases\\r\\nmRNA8XTwitter\\r\\ntolerability\\r\\nIFL Science1\\r\\nPixabay\\r\\nSARS-CoV-2T\\r\\nSARS-CoV-2\\r\\nIFL Science\\r\\nYouTube'}, {'source': {'id': None, 'name': '2chblog.jp'}, 'author': 'ko_jo', 'title': '「新型コロナウイルス」の流行によって「うつ病」が2倍以上に増加していた\\u3000果たして鬱は甘えなのか？', 'description': '1：ななし： ID:ik5J8bJ20\\n\\n \\n\\n\\n\\n2：ななし： ID:0hNudbo20.net\\n\\n甘えじゃない 都合の良い逃げ道だ\\n\\n\\n3：ななし： ID:EKqG7kOs0.net\\n\\n運動しろ運動\\n\\n\\n4：ななし： ID:V/T+09tC0.net\\n\\nワクチン接種は無関係なの？ワクチン打て打てって言われて鬱になって仕事辞めた同僚が...', 'url': 'http://news.2chblog.jp/archives/52041312.html', 'urlToImage': None, 'publishedAt': '2024-03-10T21:12:27Z', 'content': '2 [837857943]http://hayabusa3.2ch.sc/test/read.cgi/news/1710030247'}, {'source': {'id': None, 'name': 'Tocana.jp'}, 'author': '仲田しんじ', 'title': 'ビル・ゲイツに囁かれる「5つのクレイジーな陰謀論」徹底解説！ ワクチン、人口削減、GMO注射、マイクロチップ… 怖すぎる！', 'description': '※本記事は2020年の記事の再掲です。\\n\\u3000新型コロナウイルスに対するワクチン開発が世界各国で着々と進められているが、そのキーパーソンの1人がビル・ゲイツ氏だ。最近特に何かと話題に上るゲイツ氏だが、彼にはいわれのない“言い掛かり”が5つもあるという。\\n\\n\\n■ビル・ゲイツにまつわる5...', 'url': 'https://tocana.jp/2024/03/post_262337_entry.html', 'urlToImage': 'https://tocana.jp/wp-content/uploads/2020/07/Gates5_thumb.jpg', 'publishedAt': '2024-03-09T23:00:13Z', 'content': '2020\\r\\n15\\r\\n5\\r\\n1Daily Grail5\\r\\nDaily Grail\\r\\n2015TED7\\r\\n2010TED\\r\\nCenter for Global Human Population Reduction\\r\\n2000Bill &amp; Melinda Gates FoundationCenter for Global Human Population ReductionSNS\\r\\nDaily… [+5 chars]'}, {'source': {'id': None, 'name': 'Cnn.co.jp'}, 'author': '翻訳：CNN.co.jp編集部', 'title': '新型コロナワクチン、２１７回接種した結果は？\\u3000ドイツ人男性を調査', 'description': 'ドイツで新型コロナウイルスのワクチンを２９カ月の間に２１７回接種したという６２歳の男性に関する調査結果が、このほど医学誌に発表された。\\n\\n男性はガイドラインに反し、平均すると４日に１回の頻度で意図的にワクチンを接種していた。同じ病原体に対するワクチン接種を繰り返すと免疫系に何が起きるかを探る、いわば人体実験だった。\\n\\nドイツのフリードリヒ・アレクサンダー大学の研究チームはこの男性の血液や唾液（だえ...', 'url': 'https://www.cnn.co.jp/fringe/35216207.html', 'urlToImage': 'https://www.cnn.co.jp/storage/2024/03/07/4770bd3e68d16f618b2775582dd42394/cnn-L19jb21wb25lbnRzL2ltYWdlL2luc3RhbmNlcy9jbHRmMTZxMGQwMDA0M2I2aHZicjZsa2dr-L19jb21wb25lbnRzL2FydGljbGUvaW5zdGFuY2VzL2NsdGYxNmZwZzAwM3g3a3BiZTB0emI4ZmQ=thumbnail.jpg', 'publishedAt': '2024-03-07T04:00:00Z', 'content': '/IMAGINESTOCK/Moment RF/Getty Images via CNN Newsource'}, {'source': {'id': None, 'name': 'Matometanews.com'}, 'author': 'booq', 'title': '新型コロナワクチンを217回接種した男性現る\\u3000…反ワクこれどーすんの？', 'description': '1：2024/03/06(水) 22:22:20.11 ID:XZX7zUUr0●.net BE:643485443-PLT(16000)約2年半で217回も新型コロナワクチンを接種した男性が報告される2019年末から猛威を振るっている新型コロナウイルス感染症(COVID-19)も、ワクチンが急ピッチで開発され、世界中で接種が行われまし...', 'url': 'http://matometanews.com/archives/2081527.html', 'urlToImage': 'https://livedoor.blogimg.jp/booq/imgs/e/0/e0da7265.jpg', 'publishedAt': '2024-03-06T15:19:30Z', 'content': '51\\r\\n4 \\r\\n936\\r\\n22024/03/06() 22:22:46.34 ID:gIHhFGuJ0.net\\r\\n32024/03/06() 22:23:07.98 ID:oGbRp7Ey0.net\\r\\n52024/03/06() 22:24:06.06 ID:0Gcm4heh0.net\\r\\n72024/03/06() 22:25:02.57 ID:UpqNvMvV0.net\\r\\n82024/03/0… [+565 chars]'}, {'source': {'id': None, 'name': 'Www.2nn.jp'}, 'author': '少考さん ★', 'title': 'ドイツ人男性、コロナワクチンを217回接種 検査では…', 'description': '5時間前\\nミシェル・ロバーツ、BBC健康担当デジタル編集長ドイツ出身の62歳男性が、医師の助言に背き、新型コロナウイルスのワクチンを217回打っていたことが明らかになった。この奇妙な事例は、学術誌「ランセット」...https://egg.5ch.net/test/read.cgi/news5plus/1709731508/', 'url': 'https://www.2nn.jp/news5plus/1709731508/', 'urlToImage': 'http://www.2nn.jp/img/news5plus/1709731508.jpg', 'publishedAt': '2024-03-06T13:25:08Z', 'content': '5BBC62217(24)00134-8/fulltext29'}, {'source': {'id': None, 'name': 'Huffingtonpost.jp'}, 'author': '吉沢\\u3000龍彦', 'title': '新型コロナワクチン 無料接種は3月31日まで。2024年4月からは有料に', 'description': '新型コロナワクチンの「無料」接種終了のお知らせあわせて読みたい＞＞外出時の災害に備えてる？警視庁の「防災ケース」に反響、21個の防災グッズを簡単に持ち運べる\\r\\n新型コロナウイルスの感染が世界中に広がってから4年あまり。日本国内で続けられてきたワクチンの無料接種は2024年3月31日で終了し、4月からは有料になる。\\r\\n新型コロナワクチンの接種は21年に始まり、費用の全額を公費で負担していた。首相官邸の公式サイトによると、総接種回数は4億3500万回を超えた（3月5日時点）。\\r\\nこの、全世代が無料で受けられる接種が3…', 'url': 'https://www.huffingtonpost.jp/entry/story_jp_65e153d3e4b0d2a24758c63e', 'urlToImage': 'https://img.huffingtonpost.com/asset/65e6d1252300001c00656614.png?ops=1200_630', 'publishedAt': '2024-03-06T10:00:16Z', 'content': 'Skip to Main Content\\r\\n21\\r\\n420243314\\r\\n214350035\\r\\n331\\r\\n4\\r\\n1656064\\r\\n7000\\r\\n7000326015002\\r\\n512787225335\\r\\n3312'}, {'source': {'id': None, 'name': 'Cnn.co.jp'}, 'author': '翻訳：CNN.co.jp編集部', 'title': 'インフルＢ型「山形系統」コロナ禍で消滅か、米で３価ワクチンに切り替え', 'description': '米国でインフルエンザの予防接種に使われるワクチンが、過去１０年間使われてきた４価ワクチンに代わり、この秋から３価ワクチンに変更される。\\n\\n今年秋から米国内で流通するのは全て３価ワクチンになる予定。この変更の一因は新型コロナウイルスだった。\\n\\nこれまでの１０年間は、インフルエンザＡ型２種とＢ型２種に対して効果のある４価ワクチンが使われていた。しかし米食品医薬品局（ＦＤＡ）の諮問員会は５日に行った投票...', 'url': 'https://www.cnn.co.jp/usa/35216125.html', 'urlToImage': 'https://www.cnn.co.jp/storage/2024/03/06/195f522f93d03a28e932c78a9a3852e0/cnn-L19jb21wb25lbnRzL2ltYWdlL2luc3RhbmNlcy9jbHRkZmpjaG0wMDBxMmU2N2F6NDY1MG0x-L19jb21wb25lbnRzL2FydGljbGUvaW5zdGFuY2VzL2NsdGRmY2M2djAwMWQyOXFuYjNjYzFpYXM=thumbnail.jpg', 'publishedAt': '2024-03-06T10:00:00Z', 'content': '/Joe Raedle/Getty Images/FILE via CNN Newsource'}, {'source': {'id': None, 'name': 'Livedoor.com'}, 'author': 'GIGAZINE（ギガジン）', 'title': '約2年半で217回も新型コロナワクチンを接種した男性が報告される', 'description': 'ワクチンは重要な公衆衛生戦略の1つであり、事前に免疫をつけて感染症の重症化を防ぐことができます。2019年末から猛威を振るっている新型コロナウイルス感染症(COVID-19)も、ワクチンが急ピッチで開発され、世界中で接種が行われました。そんな中、新型コロナウイルスワクチンを29カ月間で217回も接種した男性が、学術誌・Infectious Diseasesに掲載された論文で報告されています。Adaptive immune responses are larger and functionally preserve…', 'url': 'https://news.livedoor.com/article/detail/25995432/', 'urlToImage': 'https://image.news.livedoor.com/newsimage/stf/a/f/aff69_88_6300e27771a0c68bb63e6c3aab23f322.jpg', 'publishedAt': '2024-03-06T03:00:00Z', 'content': '12019(COVID-19)29217Infectious Diseases\\r\\nAdaptive immune responses are larger and functionally preserved in a hypervaccinated individual - The Lancet Infectious Diseaseshttps://www.thelancet.com/jour… [+525 chars]'}, {'source': {'id': None, 'name': 'Yahoo.co.jp'}, 'author': 'Medical Doc', 'title': '新型コロナワクチン副作用の調査結果が明らかに「ワクチン打った後に心臓が溶ける」事例も（Medical DOC） - Yahoo!ニュース', 'description': 'ワクチン問題研究会が厚生労働省で記者会見をおこない、世界全体における新型コロナウイルスのワクチン接種後の副作用についての調査結果を発表しました。この内容について甲斐沼医師に伺いました。\\n\\n［この記事', 'url': 'https://news.yahoo.co.jp/articles/e892af6b8e84cb43d20833375f68af73f16641e8', 'urlToImage': 'https://newsatcl-pctr.c.yimg.jp/t/amd-img/20240302-00010000-medicald-000-1-view.jpg?exp=10800', 'publishedAt': '2024-03-01T23:14:42Z', 'content': '- - - - - - - - Copyright © 2024 GENOVA, Inc. \\r\\n© LY Corporation'}, {'source': {'id': None, 'name': 'Livedoor.com'}, 'author': 'GIGAZINE（ギガジン）', 'title': '在宅勤務の従業員はより健康的な食事をするようになりストレスは減少するが体重増加やキャリアへの不安といった問題も抱えている', 'description': '新型コロナウイルス感染症(COVID-19)のパンデミックをきっかけに世界中でリモートワークが推進されましたが、ワクチン接種が普及して流行が落ち着くに伴って、さまざまな企業がリモートワークからオフィス勤務へと復帰しています。リモートワークに関するさまざまな学術論文をレビューしたイギリスの研究では、リモートワークが従業員の健康や生産性にもたらすメリットやデメリットについて分析しました。Experiences of working from home: umbrella review | Journal of Occ…', 'url': 'https://news.livedoor.com/article/detail/25912439/', 'urlToImage': 'https://image.news.livedoor.com/newsimage/stf/5/8/58507_88_302caf88d8fbbd49fb825f9103a327ef.jpg', 'publishedAt': '2024-02-20T21:00:00Z', 'content': '(COVID-19)\\r\\nExperiences of working from home: umbrella review | Journal of Occupational Health | Oxford Academichttps://academic.oup.com/joh/article/66/1/uiad013/7473692\\r\\nWorking from home can bring … [+198 chars]'}, {'source': {'id': None, 'name': 'Shimajiro-mobiler.net'}, 'author': 'shimajiro', 'title': '新型コロナウイルスのワクチン接種証明書アプリ、2024年3月31日で提供終了', 'description': 'デジタル庁は、新型コロナウイルス（COVID-19）のワクチン接種証明書が必要となる機会が国内外で減少したことをふまえて、ワクチン接種証明書アプリの提供を2024年3月31日で終了する。同日以降に接種証明書が必要となる場合、各自治体で紙媒体', 'url': 'http://shimajiro-mobiler.net/2024/02/20/post82212/', 'urlToImage': 'http://shimajiro-mobiler.net/wp-content/uploads/2021/12/211220_COVID19_VRS.jpg', 'publishedAt': '2024-02-20T09:47:25Z', 'content': '511COVID-1932022914\\r\\nWeb\\r\\n511...'}, {'source': {'id': None, 'name': 'Asahi.com'}, 'author': '朝日新聞デジタル', 'title': 'ワクチン接種証明アプリ、3月で終了\\u3000デジタル庁「必要な場面ない」', 'description': 'デジタル庁は20日、新型コロナワクチンの「接種証明アプリ」を3月末で終了すると発表した。新型コロナウイルスに関連する行動制限などの状況が変わり、「アプリが必要な場面がほとんどない」ためだという。新た…', 'url': 'https://www.asahi.com/articles/ASS2N4W69S2NULFA00F.html', 'urlToImage': 'https://imgopt.asahi.com/ogp/AS20240220002090_comm.jpg', 'publishedAt': '2024-02-20T05:59:53Z', 'content': 'Copyright © The Asahi Shimbun Company. All rights reserved. No reproduction or republication without written permission.'}, {'source': {'id': None, 'name': 'Livedoor.com'}, 'author': 'GIGAZINE（ギガジン）', 'title': '「ワクチンを接種する腕を毎回変えること」が新型コロナワクチンの効き目をブーストするという研究結果', 'description': 'ワクチンはさまざまな感染症の発症や重症化を防ぐために用いられており、新型コロナウイルス感染症(COVID-19)のパンデミック時も迅速にワクチンが開発され、多くの人々の命を救いました。ワクチンを接種する方法が効果に及ぼす影響を調べた新たな研究で、「ワクチンを接種回ごとに異なる腕に投与すると効き目が増す」という可能性が示されました。JCI - Contralateral second dose improves antibody responses to a two-dose mRNA vaccination re…', 'url': 'https://news.livedoor.com/article/detail/25879127/', 'urlToImage': 'https://image.news.livedoor.com/newsimage/stf/0/b/0b0fc_88_5b5c9ac3b5b953bc65d48dfeb779207b.jpg', 'publishedAt': '2024-02-14T21:00:00Z', 'content': '(COVID-19)\\r\\nJCI - Contralateral second dose improves antibody responses to a two-dose mRNA vaccination regimen\\r\\nhttps://www.jci.org/articles/view/176411\\r\\nSwitching arms improves effectiveness of two-… [+404 chars]'}]}\n"
     ]
    }
   ],
   "source": [
    "print(response.json())"
   ]
  },
  {
   "cell_type": "code",
   "execution_count": 18,
   "metadata": {},
   "outputs": [
    {
     "name": "stdout",
     "output_type": "stream",
     "text": [
      "totalResults: 14\n",
      "             publishedAt                     title                       url\n",
      "0   2024-03-12T03:00:59Z  217回新型コロナウイルスのワクチンを接種...  https://tocana.jp/202...\n",
      "1   2024-03-10T21:12:27Z  「新型コロナウイルス」の流行によって「うつ...  http://news.2chblog.j...\n",
      "2   2024-03-09T23:00:13Z  ビル・ゲイツに囁かれる「5つのクレイジーな...  https://tocana.jp/202...\n",
      "3   2024-03-07T04:00:00Z  新型コロナワクチン、２１７回接種した結果は...  https://www.cnn.co.jp...\n",
      "4   2024-03-06T15:19:30Z  新型コロナワクチンを217回接種した男性現...  http://matometanews.c...\n",
      "5   2024-03-06T13:25:08Z  ドイツ人男性、コロナワクチンを217回接種...  https://www.2nn.jp/ne...\n",
      "6   2024-03-06T10:00:16Z  新型コロナワクチン 無料接種は3月31日ま...  https://www.huffingto...\n",
      "7   2024-03-06T10:00:00Z  インフルＢ型「山形系統」コロナ禍で消滅か、...  https://www.cnn.co.jp...\n",
      "8   2024-03-06T03:00:00Z  約2年半で217回も新型コロナワクチンを接...  https://news.livedoor...\n",
      "9   2024-03-01T23:14:42Z  新型コロナワクチン副作用の調査結果が明らか...  https://news.yahoo.co...\n",
      "10  2024-02-20T21:00:00Z  在宅勤務の従業員はより健康的な食事をするよ...  https://news.livedoor...\n",
      "11  2024-02-20T09:47:25Z  新型コロナウイルスのワクチン接種証明書アプ...  http://shimajiro-mobi...\n",
      "12  2024-02-20T05:59:53Z  ワクチン接種証明アプリ、3月で終了　デジタ...  https://www.asahi.com...\n",
      "13  2024-02-14T21:00:00Z  「ワクチンを接種する腕を毎回変えること」が...  https://news.livedoor...\n"
     ]
    }
   ],
   "source": [
    "pd.options.display.max_colwidth = 25\n",
    "\n",
    "if response.ok:\n",
    "    data = response.json()\n",
    "    df = pd.DataFrame(data['articles'])\n",
    "    print('totalResults:', data['totalResults'])\n",
    "\n",
    "print(df[[ 'publishedAt', 'title', 'url']])"
   ]
  },
  {
   "cell_type": "code",
   "execution_count": 19,
   "metadata": {},
   "outputs": [
    {
     "name": "stdout",
     "output_type": "stream",
     "text": [
      "totalResults: 67\n",
      "             publishedAt                     title                       url\n",
      "0   2024-03-12T03:58:59Z  午前の日経平均は続落、米ＣＰＩを控え持ち高...  https://jp.reuters.co...\n",
      "1   2024-03-12T03:28:37Z  外為12時 円相場、下落 一時147円台半...  https://www.nikkei.co...\n",
      "2   2024-03-12T03:21:44Z  ビットコイン、また史上最高値更新、ETFフ...  https://jp.cointelegr...\n",
      "3   2024-03-12T03:13:46Z  「一部統計に弱めの動き」と植田日銀総裁、景...  https://jp.reuters.co...\n",
      "4   2024-03-12T03:05:00Z  65型まで対応の壁寄せTVスタンド。サウン...  https://av.watch.impr...\n",
      "5   2024-03-12T02:56:00Z  \"ロマンス詐欺” 227万円の被害｜日テレ...  https://news.ntv.co.j...\n",
      "6   2024-03-12T02:50:50Z  カップ麺と菓子パンだけじゃつらいから… 野...  https://www3.nhk.or.j...\n",
      "7   2024-03-12T02:30:02Z  【いーふらん】金価格が過去最高値を更新！3...  https://prtimes.jp/ma...\n",
      "8   2024-03-12T02:19:30Z  ＜東証＞バリューコマースが10%高 自社株...  https://www.nikkei.co...\n",
      "9   2024-03-12T01:56:13Z  国内企業物価2月は前年比0.6％上昇、補助...  https://jp.reuters.co...\n",
      "10  2024-03-12T00:57:56Z  中国不動産開発の万科をジャンク級に、一段の...  https://www.bloomberg...\n",
      "11  2024-03-12T00:46:31Z  米国株はＦＲＢよりＣＰＩに大きく反応も、オ...  https://www.bloomberg...\n",
      "12  2024-03-12T00:07:47Z  話題株先取り【寄り付き】（1）：シルバライ...  https://kabutan.jp/ne...\n",
      "13  2024-03-12T00:06:38Z  イーロン・マスク氏、生成AI「Grok」オ...  https://www.nikkei.co...\n",
      "14  2024-03-11T23:57:03Z  1〜3月の大企業景況感、4期ぶりマイナス ...  https://www.nikkei.co...\n",
      "15  2024-03-11T23:00:00Z  来年の｢ふるさと納税｣はAmazonでどう...  https://www.gizmodo.j...\n",
      "16  2024-03-11T22:50:00Z  債券は下落か、マイナス金利解除観測で５年債...  https://www.bloomberg...\n",
      "17  2024-03-11T22:45:00Z  「家のどこにある？」「実用的でない」に対応...  https://www.yomiuri.c...\n",
      "18  2024-03-11T22:35:00Z  平日の日中に災害発生、郊外の自宅にいる女性...  https://www.yomiuri.c...\n",
      "19  2024-03-11T22:28:48Z  米 最先端技術の祭典SXSW 日本企業 仮...  https://www3.nhk.or.j...\n"
     ]
    }
   ],
   "source": [
    "# Top headlines Endpoint\n",
    "url = 'https://newsapi.org/v2/top-headlines'\n",
    "params = {\n",
    "    'category': 'business',\n",
    "    'country': 'jp'\n",
    "}\n",
    "\n",
    "# Get response\n",
    "response = requests.get(url, headers=headers, params=params)\n",
    "\n",
    "# Make dataframe\n",
    "if response.ok:\n",
    "    data = response.json()\n",
    "    df = pd.DataFrame(data['articles'])\n",
    "    print('totalResults:', data['totalResults'])\n",
    "\n",
    "print(df[[ 'publishedAt', 'title', 'url']])"
   ]
  },
  {
   "cell_type": "code",
   "execution_count": null,
   "metadata": {},
   "outputs": [],
   "source": []
  }
 ],
 "metadata": {
  "kernelspec": {
   "display_name": "news_env",
   "language": "python",
   "name": "python3"
  },
  "language_info": {
   "codemirror_mode": {
    "name": "ipython",
    "version": 3
   },
   "file_extension": ".py",
   "mimetype": "text/x-python",
   "name": "python",
   "nbconvert_exporter": "python",
   "pygments_lexer": "ipython3",
   "version": "3.11.4"
  }
 },
 "nbformat": 4,
 "nbformat_minor": 2
}
